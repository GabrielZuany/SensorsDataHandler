{
 "cells": [
  {
   "cell_type": "markdown",
   "metadata": {},
   "source": [
    "# IndustriALL AI Challenge\n",
    "\n",
    "---"
   ]
  },
  {
   "cell_type": "markdown",
   "metadata": {},
   "source": [
    "\n",
    "### Reading Data\n"
   ]
  },
  {
   "cell_type": "code",
   "execution_count": 26,
   "metadata": {},
   "outputs": [],
   "source": [
    "from multiprocessing import cpu_count\n",
    "import os\n",
    "import time\n",
    "import pandas as pd\n",
    "from concurrent.futures import ProcessPoolExecutor\n",
    "import numpy as np\n",
    "import matplotlib.pyplot as plt\n",
    "import seaborn as sns\n",
    "import plotly.express as px\n",
    "\n",
    "DATAFOLDER = '../data/'\n",
    "BASE_NAME = 'TAG_iALL_PS_'"
   ]
  },
  {
   "cell_type": "code",
   "execution_count": 15,
   "metadata": {},
   "outputs": [],
   "source": [
    "full_csv_exists = 'full.csv' in os.listdir(DATAFOLDER)"
   ]
  },
  {
   "cell_type": "code",
   "execution_count": 16,
   "metadata": {},
   "outputs": [
    {
     "name": "stdout",
     "output_type": "stream",
     "text": [
      "Elapsed time: 2.292546272277832 seconds\n"
     ]
    }
   ],
   "source": [
    "if full_csv_exists:\n",
    "    start_time = time.time()\n",
    "    full_df = pd.read_csv('../data/full.csv')\n",
    "    end_time = time.time()\n",
    "    print('Elapsed time: ' + str(end_time - start_time) + ' seconds')\n",
    "\n",
    "else:\n",
    "    start_time = time.time()\n",
    "    def read(file):\n",
    "        if file.endswith('00.csv'):\n",
    "            return None\n",
    "\n",
    "        print('Reading file: ' + file)\n",
    "        df = pd.read_csv(DATAFOLDER + file)\n",
    "        df = df.set_index('timestamp')\n",
    "\n",
    "        return df[file.split('.')[0]]\n",
    "\n",
    "    if __name__ == '__main__':\n",
    "        # Get the list of files to process\n",
    "        files_to_process = [file for file in os.listdir(DATAFOLDER) if not file.endswith('00.csv')]\n",
    "\n",
    "        # Use ProcessPoolExecutor for parallel processing\n",
    "        with ProcessPoolExecutor(cpu_count()) as executor:\n",
    "            # Map the function to process each file in parallel\n",
    "            dfs = list(executor.map(read, files_to_process))\n",
    "\n",
    "        # Create the full_df by concatenating the DataFrames\n",
    "        full_df = pd.concat([pd.read_csv(DATAFOLDER + 'TAG_iALL_PS_00.csv').set_index('timestamp')] + dfs, ignore_index=False, axis=1)\n",
    "\n",
    "        # Rename the 'target_iALL_PS' column to 'status' \n",
    "        if 'target_iALL_PS.csv' in files_to_process:\n",
    "            full_df = full_df.rename(columns={'target_iALL_PS': 'status'})\n",
    "\n",
    "        # Save the result to a CSV file\n",
    "        full_df.to_csv(DATAFOLDER + 'full.csv')\n",
    "        end_time = time.time()\n",
    "        print('Elapsed time: ' + str(end_time - start_time) + ' seconds')\n",
    "    "
   ]
  },
  {
   "cell_type": "markdown",
   "metadata": {},
   "source": [
    "---\n",
    "\n",
    "### Processing Data"
   ]
  },
  {
   "cell_type": "code",
   "execution_count": 34,
   "metadata": {},
   "outputs": [
    {
     "name": "stdout",
     "output_type": "stream",
     "text": [
      "(14484, 54)\n",
      "       TAG_iALL_PS_00  TAG_iALL_PS_01  TAG_iALL_PS_02  TAG_iALL_PS_03  \\\n",
      "count     4290.000000    14454.000000    14479.000000    14479.000000   \n",
      "mean         2.415374       86.770994       90.787765       81.811783   \n",
      "std          2.355662       44.461730       48.586422       41.593146   \n",
      "min         -5.793448      -69.294665     -111.724200      -92.964574   \n",
      "25%          0.792655       57.346602       57.807068       53.556725   \n",
      "50%          2.410244       86.918351       90.736031       81.445123   \n",
      "75%          4.020684      116.691624      124.255120      110.041727   \n",
      "max          9.705992      250.501402      260.798301      231.295301   \n",
      "\n",
      "       TAG_iALL_PS_04  TAG_iALL_PS_05  TAG_iALL_PS_06  TAG_iALL_PS_07  \\\n",
      "count    14479.000000    14479.000000     9700.000000     9047.000000   \n",
      "mean       683.576051      118.238128       19.469562       24.379578   \n",
      "std        600.775079       82.068623       13.910594       17.005007   \n",
      "min      -1427.411597     -170.892724      -33.111409      -36.382759   \n",
      "25%        283.935713       59.853168       10.238846       12.903681   \n",
      "50%        684.320958      117.108240       19.381048       24.307578   \n",
      "75%       1086.214071      176.016645       28.851416       35.740752   \n",
      "max       3084.430968      437.705778       68.561492       88.567534   \n",
      "\n",
      "       TAG_iALL_PS_08  TAG_iALL_PS_09  ...  TAG_iALL_PS_42  TAG_iALL_PS_43  \\\n",
      "count     9391.000000     9903.000000  ...    14479.000000    14479.000000   \n",
      "mean        24.403844       23.693955  ...       70.711015       82.391930   \n",
      "std         16.653770       16.570629  ...       44.384093       48.684550   \n",
      "min        -54.239361      -38.407559  ...      -57.768534      -76.446789   \n",
      "25%         13.018892       12.203177  ...       44.775267       53.218694   \n",
      "50%         24.636739       23.883383  ...       66.256206       79.153916   \n",
      "75%         35.738193       34.970631  ...       89.874311      106.361738   \n",
      "max         86.066157       79.810870  ...      454.850363      515.898984   \n",
      "\n",
      "       TAG_iALL_PS_44  TAG_iALL_PS_45  TAG_iALL_PS_46  TAG_iALL_PS_47  \\\n",
      "count    14479.000000    14479.000000    14479.000000    14479.000000   \n",
      "mean        75.049449       76.691938       83.607586       78.551279   \n",
      "std         36.546528       37.421719       43.309044       37.833556   \n",
      "min        -59.448640      -58.208341      -70.606259      -61.589355   \n",
      "25%         51.182704       52.006730       56.407290       53.186018   \n",
      "50%         74.434420       75.624112       81.700797       78.441528   \n",
      "75%         98.368096      100.149881      107.607028      102.709384   \n",
      "max        430.896348      406.563957      400.806407      408.003560   \n",
      "\n",
      "       TAG_iALL_PS_48  TAG_iALL_PS_49  TAG_iALL_PS_50  TAG_iALL_PS_51  \n",
      "count    14479.000000    14479.000000    14403.000000    11485.000000  \n",
      "mean       188.757883       92.886715      223.068416      440.132539  \n",
      "std         65.790374       49.537625       54.368097      415.521300  \n",
      "min        -34.404046      -90.360986       47.638030     -286.409273  \n",
      "25%        147.389508       60.479735      189.762366      169.609046  \n",
      "50%        186.408021       91.350343      219.072734      295.791551  \n",
      "75%        225.397964      122.285416      249.902187      490.549517  \n",
      "max        758.472145      599.061973      748.922503     1744.741331  \n",
      "\n",
      "[8 rows x 52 columns]\n",
      "status\n",
      "NORMAL     205836\n",
      "ANORMAL     14484\n",
      "Name: count, dtype: int64\n",
      "status\n",
      "NORMAL     0.934259\n",
      "ANORMAL    0.065741\n",
      "Name: proportion, dtype: float64\n"
     ]
    }
   ],
   "source": [
    "full_df = full_df.drop_duplicates()\n",
    "\n",
    "\n",
    "# build dataframes with only ANORMAL status\n",
    "anormal_df = full_df[full_df['status'] == 'ANORMAL']\n",
    "print(anormal_df.shape)\n",
    "print(anormal_df.describe())\n",
    "# print(anormal_df.head())\n",
    "# print(anormal_df.tail())\n",
    "\n",
    "print(full_df['status'].value_counts())\n",
    "print(full_df['status'].value_counts(normalize=True))\n",
    "\n",
    "# print(full_df.head())\n",
    "# print(full_df.tail(n=20))\n",
    "# print(full_df.shape)\n",
    "# print(full_df.columns)\n",
    "# print(full_df.describe())"
   ]
  }
 ],
 "metadata": {
  "kernelspec": {
   "display_name": "venv",
   "language": "python",
   "name": "python3"
  },
  "language_info": {
   "codemirror_mode": {
    "name": "ipython",
    "version": 3
   },
   "file_extension": ".py",
   "mimetype": "text/x-python",
   "name": "python",
   "nbconvert_exporter": "python",
   "pygments_lexer": "ipython3",
   "version": "3.11.3"
  }
 },
 "nbformat": 4,
 "nbformat_minor": 2
}
